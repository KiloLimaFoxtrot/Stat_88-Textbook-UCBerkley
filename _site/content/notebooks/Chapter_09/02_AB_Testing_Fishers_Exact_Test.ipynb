{
 "cells": [
  {
   "cell_type": "code",
   "execution_count": 2,
   "metadata": {
    "tags": [
     "remove_input"
    ]
   },
   "outputs": [],
   "source": [
    "# NO CODE\n",
    "\n",
    "from datascience import *\n",
    "from prob140 import *\n",
    "%matplotlib inline\n",
    "import matplotlib.pyplot as plt\n",
    "plt.style.use('fivethirtyeight')\n",
    "import numpy as np\n",
    "from scipy import stats\n",
    "\n",
    "import warnings\n",
    "warnings.filterwarnings('ignore')"
   ]
  },
  {
   "cell_type": "markdown",
   "metadata": {},
   "source": [
    "## A/B Testing: Fisher's Exact Test ##"
   ]
  },
  {
   "cell_type": "markdown",
   "metadata": {},
   "source": [
    "*A/B testing* is a term used to describe tests of hypotheses that involve comparing the distributions of two random samples. Although the term is relatively new, the ideas and methods have been used by statisticians for a very long time.\n",
    "\n",
    "In this section we revisit a test of hypotheses performed in Data 8 using random permutations. We will show how the test can be performed using a method devised by Sir Ronald Fisher early in the 20th century.\n",
    "\n",
    "Recall a [randomized controlled experiment](https://www.inferentialthinking.com/chapters/12/3/Causality.html) to study a potential treatment for chronic back pain. The treatment was the botulinum toxin A, a very potent toxin that can be used as medication in tiny doses.\n",
    "\n",
    "A total of 31 patients participated in the study. Of these, 15 were randomly assigned to the treatment group and the remaining 16 to the control group. Eight weeks after treatment, 11 of the 15 in the treatment group had pain relief compared to 2 out of 16 in the control group.\n",
    "\n",
    "In other words, of the 13 patients who had pain relief, 11 were in the treatment group and 2 in the control group. Is this evidence in favor of the treatment?\n",
    "\n",
    "We can answer this question by performing a test of hypotheses.\n",
    "\n",
    "The null hypothesis $H_0$ says that the treatment does nothing; any difference between the two groups is due to the random assignment of patients to treatment and control.\n",
    "\n",
    "The alternative hypothesis $H_A$ says that the treatment was beneficial.\n",
    "\n",
    "A natural test statistic to use is the number of treated patients who had pain relief. Call this statistic $X$. High values of $X$ favor the alternative hypothesis.\n",
    "\n",
    "Under $H_0$, the treatment did nothing. So among the 31 patients in the study, 13 would have had pain relief anyway, regardless of the assignment to groups. The only reason 11 of them ended up in the treatment group is due to the random assignment of patients to groups.\n",
    "\n",
    "Thus the $p$-value is the chance of getting 11 or more of the 13 \"pain relief\" patients in the treatment group, just by assigning 15 randomly picked patients to the treatment group.\n",
    "\n",
    "This is a hypergeometric probability. The parameters are\n",
    "\n",
    "- N = 31, the population size\n",
    "- G = 13, the total number of \"pain relief\" patients\n",
    "- n = 15, the size of the treatment group\n",
    "\n",
    "The $p$-value is\n",
    "\n",
    "$$\n",
    "P_{H_0}(X \\ge 11) ~ = ~ \\sum_{g=11}^{13} \\frac{\\binom{13}{g}\\binom{18}{15-g}}{\\binom{31}{15}} ~ \\approx ~ 0.0008\n",
    "$$"
   ]
  },
  {
   "cell_type": "code",
   "execution_count": 3,
   "metadata": {},
   "outputs": [
    {
     "data": {
      "text/plain": [
       "0.0008299755046076295"
      ]
     },
     "execution_count": 3,
     "metadata": {},
     "output_type": "execute_result"
    }
   ],
   "source": [
    "sum(stats.hypergeom.pmf(make_array(11, 12, 13), 31, 13, 15))"
   ]
  },
  {
   "cell_type": "markdown",
   "metadata": {},
   "source": [
    "That's a very small $p$-value, which implies that the data support the alternative hypothesis more than they support the null. The treatment helped. This is consistent with the conclusion of the researchers and also with our own analysis in Data 8. But all three analyses are different. \n",
    "\n",
    "- The calculations in the research paper involve some approximations.\n",
    "- In Data 8 we simulated the difference between the two group proportions under the null hypothesis, by pooling the two groups and randomly permuting the pooled sample. Our conclusion was based on an empirical, approximate $p$-value.\n",
    "- The calculation here does not require simulation and produces an exact $p$-value.\n",
    "\n",
    "The method we have used is called *Fisher's exact test*. That's the same Sir Ronald Fisher who formalized tests of hypotheses, suggested cutoffs for $p$-values, and so on. The method can be used for any sample size and any randomized controlled experiment with a binary response."
   ]
  },
  {
   "cell_type": "code",
   "execution_count": null,
   "metadata": {},
   "outputs": [],
   "source": []
  }
 ],
 "metadata": {
  "celltoolbar": "Edit Metadata",
  "kernelspec": {
   "display_name": "Python 3",
   "language": "python",
   "name": "python3"
  },
  "language_info": {
   "codemirror_mode": {
    "name": "ipython",
    "version": 3
   },
   "file_extension": ".py",
   "mimetype": "text/x-python",
   "name": "python",
   "nbconvert_exporter": "python",
   "pygments_lexer": "ipython3",
   "version": "3.6.9"
  }
 },
 "nbformat": 4,
 "nbformat_minor": 2
}
