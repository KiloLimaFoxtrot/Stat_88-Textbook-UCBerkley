{
 "cells": [
  {
   "cell_type": "code",
   "execution_count": 1,
   "metadata": {},
   "outputs": [],
   "source": [
    "# NO CODE\n",
    "\n",
    "from datascience import *\n",
    "from prob140 import *\n",
    "%matplotlib inline\n",
    "import matplotlib.pyplot as plt\n",
    "plt.style.use('fivethirtyeight')\n",
    "import numpy as np\n",
    "from scipy import stats"
   ]
  },
  {
   "cell_type": "markdown",
   "metadata": {},
   "source": [
    "## Sums of Independent Random Variables ##"
   ]
  },
  {
   "cell_type": "markdown",
   "metadata": {},
   "source": [
    "For two random variables $X$ and $Y$, the additivity property $E(X+Y) = E(X) + E(Y)$ is true regardless of the dependence or independence of $X$ and $Y$. \n",
    "\n",
    "But variance doesn't behave quite like this. Let's look at an example."
   ]
  },
  {
   "cell_type": "markdown",
   "metadata": {},
   "source": [
    "### Two Rolls of a Die ###\n",
    "Suppose a die is rolled two times. Let $D_1$ and $D_2$ be the numbers on Rolls 1 and 2. \n",
    "\n",
    "Then $D_1$ and $D_2$ have the same distribution: both are uniform on $1, 2, 3, 4, 5, 6$. So $E(D_1) = E(D_2) = 3.5$.\n",
    "\n",
    "Define two sums as follows:\n",
    "\n",
    "- $V = D_1 + D_1$\n",
    "- $W = D_1 + D_2$\n",
    "\n",
    "In each case we are adding two random variables that have the uniform distribution on the integers $1$ through $6$.\n",
    "\n",
    "The two sums also have the same expectation, because by additivity, $E(V) = 7 = E(W)$.\n",
    "\n",
    "But their distributions are quite different from each other. The possible values of $W$ are the integers 2 through 12, whereas the possible values of $V$ are the even integers $2, 4, 6, 8, 10, 12$.\n",
    "\n",
    "The figure below show the probability distributions of $V$ and $W$."
   ]
  },
  {
   "cell_type": "code",
   "execution_count": 6,
   "metadata": {},
   "outputs": [
    {
     "data": {
      "image/png": "[encoded data removed]",
      "text/plain": [
       "<Figure size 432x288 with 1 Axes>"
      ]
     },
     "metadata": {},
     "output_type": "display_data"
    }
   ],
   "source": [
    "# NO CODE\n",
    "\n",
    "faces = np.arange(1, 7)\n",
    "dist_twice_D1 = Table().values(2*faces).probabilities((1/6)*np.ones(6))\n",
    "k = np.arange(2, 13)\n",
    "probs_S = np.append(np.arange(1, 7), np.arange(5, 0, -1))/36\n",
    "dist_S = Table().values(k).probabilities(probs_S)\n",
    "Plots('V = D_1 + D_1', dist_twice_D1, 'W = D_1 + D_2', dist_S)"
   ]
  },
  {
   "cell_type": "markdown",
   "metadata": {},
   "source": [
    "The figure shows that the distribution of $V$ (the blue histogram) has a larger spread than that of $W$ (the gold histogram). Both distributions are centered at 7 but the blue distribution has more mass on the extreme values.\n",
    "\n",
    "Clearly, this difference in spread is connected with the fact that $W = D_1 + D_2$ is the sum of two *independent* rolls of a die whereas $V = D_1 + D_1$ is just twice the first roll.\n",
    "\n",
    "To see why dependence matters when you are thinking about variance, notice that if $D_1$ is large then $V$ must be large but $W$ can be moderate if $D_2$ is small. The variability of the sum depends on the relation between the two variables being added."
   ]
  },
  {
   "cell_type": "markdown",
   "metadata": {},
   "source": [
    "### Adding Independent Random Variables ###\n",
    "\n",
    "It [can be shown](http://prob140.org/textbook/Chapter_13/00_Variance_Via_Covariance.html) that \n",
    "\n",
    "$$\n",
    "Var(X + Y) ~ = ~ Var(X) + Var(Y) ~~~ \\text{ if } X \\text{ and } Y \\text{ are independent}\n",
    "$$\n",
    "\n",
    "In this course, the proof isn't of primary importance. It is more important for you to understand that unlike expectation, variance is not additive in general. Additivity of variance is true if the random variables being added are independent of each other."
   ]
  },
  {
   "cell_type": "markdown",
   "metadata": {},
   "source": [
    "### Sums of IID Random Variables ###\n",
    "\n",
    "The most important application of the formula above is to the sum of a random sample. Let $X_1, X_2, \\ldots, X_n$ be i.i.d. with expectation $\\mu$ and SD $\\sigma$.\n",
    "\n",
    "Let $S_n = X_1 + X_2 + \\ldots + X_n$.\n",
    "\n",
    "We already know that by additivity of expectation,\n",
    "\n",
    "$$\n",
    "E(S_n) ~ = ~ n\\mu\n",
    "$$\n",
    "\n",
    "By our new result about the variance of a sum of independent random variables, we have\n",
    "\n",
    "$$\n",
    "Var(S_n) ~ = ~ Var(X_1) + Var(X_2) + \\cdots + Var(X_n) = n\\sigma^2\n",
    "$$\n",
    "\n",
    "Therefore\n",
    "\n",
    "$$\n",
    "SD(S_n) ~ = ~ \\sqrt{n}\\sigma\n",
    "$$\n",
    "\n",
    "Notice that the expectation of the sample sum $S_n$ grows linearly in $n$, but the SD grows slower. In later section we will study some important consequences of this property.\n",
    "\n",
    "In our example about two rolls of a die, the random variable $W = D_1 + D_2$ is the sum of two i.i.d. random variables. So we can apply our new formula to find its SD.\n",
    "\n",
    "Because $D_1$ is uniform on the integers $1$ through $6$, we know from an [earlier section](http://stat88.org/textbook/notebooks/Chapter_06/02_Simplifying_the_Calculation.html) that $SD(D_1) = 1.71$; this number is correct to two decimal places.\n",
    "\n",
    "Thus $SD(W) = \\sqrt{2}\\times1.71$.\n",
    "\n",
    "But $SD(V) = SD(D_1 + D_1) = SD(2D_1) = 2SD(D_1) = 2\\times1.71$.\n",
    "\n",
    "This agrees with what we had concluded earlier based on the probability histograms of $V$ and $W$: the spread of $V$ is greater than that of $W$."
   ]
  },
  {
   "cell_type": "markdown",
   "metadata": {},
   "source": [
    "### SD of the Binomial ###\n",
    "\n",
    "Let $X$ have the binomial $(n, p)$ distribution. We know that $E(X) = np$. We can now find $SD(X)$ as well.\n",
    "\n",
    "Recall that to find $E(X)$ we said that as $X$ is the number of successes in $n$ independent Bernoulli $(p)$ trials,\n",
    "\n",
    "$$\n",
    "X ~ = ~ I_1 + I_2 + \\cdots + I_n\n",
    "$$\n",
    "\n",
    "where $I_j$ is the indicator of success on Trial $j$.\n",
    "\n",
    "The distribution of $I_1$ is given by\n",
    "\n",
    "|value|$0$|$1$|\n",
    "|---:|:---:|:---:|\n",
    "|**probability**|$(1-p)$|$p$|\n",
    "\n",
    "Hence \n",
    "\n",
    "- $E(I_1) = p$\n",
    "- $E(I_1^2) = 0^2(1-p) + 1^2p = p$\n",
    "- $Var(I_1) = p - p^2 = p(1-p) = pq$ where $q = 1-p$\n",
    "- $SD(I_1) = \\sqrt{pq}$\n",
    "\n",
    "Now $X$ is the sum of $n$ *independent* indicators, each with the same distribution as $I_1$. \n",
    "\n",
    "So $SD(X) = \\sqrt{n}\\sqrt{pq} = \\sqrt{npq}$.\n",
    "\n",
    "Thus if $X$ has the binomial $(n, p)$ distribution, then $E(X) = np$ and $SD(X) = \\sqrt{npq}$.\n",
    "\n",
    "For example, if $X$ is the number of heads in 100 tosses of a coin then $X$ has the binomial $(100, 0.5)$ distribution so $E(X) = 50$ and $SD(X) = \\sqrt{100 \\times 0.5 \\times 0.5} = 5$.\n",
    "\n",
    "The figure below shows the probability histogram of $X$. The red arrow is at $E(X) = 50$ and the red arrows are at $E(X) \\pm SD(X)$, that is, at 45 and 55."
   ]
  },
  {
   "cell_type": "code",
   "execution_count": 8,
   "metadata": {},
   "outputs": [
    {
     "data": {
      "image/png": "[encoded data removed]",
      "text/plain": [
       "<Figure size 432x288 with 1 Axes>"
      ]
     },
     "metadata": {},
     "output_type": "display_data"
    }
   ],
   "source": [
    "# NO CODE\n",
    "\n",
    "n = 100\n",
    "p = 0.5\n",
    "mu = n*p\n",
    "sigma = (n*p*(1-p))**0.5\n",
    "lo = np.floor(mu - 5*sigma)\n",
    "hi = np.ceil(mu + 5*sigma)\n",
    "k = np.arange(lo, hi+1)\n",
    "probs = stats.binom.pmf(k, n, p)\n",
    "binom_dist = Table().values(k).probabilities(probs)\n",
    "Plot(binom_dist, show_ev=True, show_sd=True)\n",
    "plt.title('Binomial (100, 0.5) Distribution')\n",
    "plt.xlabel('Number of Successes');"
   ]
  },
  {
   "cell_type": "markdown",
   "metadata": {},
   "source": [
    "### SD of the Poisson ###\n",
    "\n",
    "When random variables can't be easily expressed as sums, SD calculations can get complicated as they involve expectations of squares. For example, if $X$ has the Poisson $(\\mu)$ distribution then we showed that $E(X) = \\mu$, but the calculation of the SD is more complicated.\n",
    "\n",
    "So we will just state the result that $SD(X) = \\sqrt{\\mu}$, and try to understand why that is a reasonable value.\n",
    "\n",
    "Recall that one way in which the Poisson distribution arises is as an approximation to the binomial $(n, p)$ distribution when $n$ is large and $p$ is small. The parameter of the approximating Poisson distribution is $\\mu = np$, obtained by equating means.\n",
    "\n",
    "Now the SD of the binomial random variable is $\\sqrt{npq}$. When $p$ is small, $q$ is close to 1. And so the SD of the binomial random variable is $\\sqrt{npq} \\approx \\sqrt{np} = \\sqrt{\\mu}$."
   ]
  },
  {
   "cell_type": "markdown",
   "metadata": {},
   "source": [
    "### Waiting Till the Tenth Success ###\n",
    "\n",
    "The SD of a geometric random variable also is requires a bit of calculation. We will just provide it for you and then use it.\n",
    "\n",
    "Suppose we are running i.i.d. Bernoulli $(p)$ trials, that is, success/failure trials with success probability $p$. Let $T$ be the number of trials required to get the first success. Then: \n",
    "\n",
    "- $T$ has the geometric $(p)$ distribution on $1, 2, 3, \\ldots $\n",
    "- $E(T) = 1/p$\n",
    "- $Var(T) = \\frac{q}{p^2}$ and $SD(T) = \\frac{\\sqrt{q}}{p}$\n",
    "\n",
    "We won't prove that last fact, but we can use it as in the following example.\n",
    "\n",
    "Suppose we roll a die until we see a total of 10 sixes. Let $R$ be the number of rolls required. Then\n",
    "\n",
    "$$\n",
    "R ~ = ~ X_1 + X_2 + \\cdots + X_{10}\n",
    "$$\n",
    "\n",
    "where each $X_i$ is the number of trials after the $i-1$th six till we get the $i$th six.\n",
    "\n",
    "$X_1, X_2, \\ldots X_{10}$ are i.i.d. geometric $(1/6)$ random variables, so \n",
    "\n",
    "$$\n",
    "E(R) ~ = ~ 10\\cdot\\frac{1}{1/6} ~ = ~ 60\n",
    "$$\n",
    "\n",
    "and \n",
    "\n",
    "$$\n",
    "SD(R) ~ = ~ \\sqrt{10} \\cdot \\frac{\\sqrt{5/6}}{1/6} ~ \\approx ~ 17.32\n",
    "$$"
   ]
  },
  {
   "cell_type": "code",
   "execution_count": 10,
   "metadata": {},
   "outputs": [
    {
     "data": {
      "text/plain": [
       "17.320508075688775"
      ]
     },
     "execution_count": 10,
     "metadata": {},
     "output_type": "execute_result"
    }
   ],
   "source": [
    "p = 1/6\n",
    "q = 1 - p\n",
    "(10**0.5) * (q**0.5) / p"
   ]
  }
 ],
 "metadata": {
  "kernelspec": {
   "display_name": "Python 3",
   "language": "python",
   "name": "python3"
  },
  "language_info": {
   "codemirror_mode": {
    "name": "ipython",
    "version": 3
   },
   "file_extension": ".py",
   "mimetype": "text/x-python",
   "name": "python",
   "nbconvert_exporter": "python",
   "pygments_lexer": "ipython3",
   "version": "3.6.9"
  }
 },
 "nbformat": 4,
 "nbformat_minor": 2
}
